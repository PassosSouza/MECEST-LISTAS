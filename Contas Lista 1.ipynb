{
 "cells": [
  {
   "cell_type": "code",
   "execution_count": 3,
   "id": "cf7a6a7f",
   "metadata": {},
   "outputs": [],
   "source": [
    "from matplotlib import pyplot as plt\n",
    "from sys import version\n",
    "import sympy as sp\n",
    "import numpy as np"
   ]
  },
  {
   "cell_type": "markdown",
   "id": "f9a1361e",
   "metadata": {},
   "source": [
    "# Exercise 1-6"
   ]
  },
  {
   "cell_type": "code",
   "execution_count": 2,
   "id": "cadff09a",
   "metadata": {},
   "outputs": [
    {
     "data": {
      "text/latex": [
       "$\\displaystyle N p \\left(N p - p + 1\\right)$"
      ],
      "text/plain": [
       "N*p*(N*p - p + 1)"
      ]
     },
     "metadata": {},
     "output_type": "display_data"
    }
   ],
   "source": [
    "n,p,q,N = sp.symbols('n p q N')\n",
    "\n",
    "u1 = sp.diff((p+q)**N,p)*p\n",
    "u2=sp.diff(u1,p)*p\n",
    "u3 = sp.diff(u2,p)*p\n",
    "u4 = sp.diff(u3,p)*p\n",
    "display(u2.subs({p+q:1}).simplify())"
   ]
  },
  {
   "cell_type": "code",
   "execution_count": 19,
   "id": "9b242afc",
   "metadata": {},
   "outputs": [
    {
     "data": {
      "text/latex": [
       "$\\displaystyle 0$"
      ],
      "text/plain": [
       "0"
      ]
     },
     "metadata": {},
     "output_type": "display_data"
    },
    {
     "data": {
      "text/latex": [
       "$\\displaystyle - 4 N^{2} p + N^{2} + 4 p \\left(N^{2} p - N p + N\\right)$"
      ],
      "text/plain": [
       "-4*N**2*p + N**2 + 4*p*(N**2*p - N*p + N)"
      ]
     },
     "metadata": {},
     "output_type": "display_data"
    },
    {
     "data": {
      "text/latex": [
       "$\\displaystyle 2 N^{2} p - N^{2} - 2 N p + 2 N$"
      ],
      "text/plain": [
       "2*N**2*p - N**2 - 2*N*p + 2*N"
      ]
     },
     "metadata": {},
     "output_type": "display_data"
    }
   ],
   "source": [
    "m12=(2*u1-N)\n",
    "display(m12.subs({2*p:1,p+q:1}))\n",
    "m22=4*u2-4*u1*N+N**2\n",
    "display(m22.subs({p+q:1}))\n",
    "display(m22.subs({2*p:1,p+q:1,4*p**2:1}))"
   ]
  },
  {
   "cell_type": "code",
   "execution_count": 31,
   "id": "e0c73fe0",
   "metadata": {},
   "outputs": [
    {
     "data": {
      "text/latex": [
       "$\\displaystyle 2 N \\left(2 N^{2} p^{2} - 3 N^{2} p + N^{2} - 6 N p^{2} + 9 N p - 3 N - 4 p + 2\\right)$"
      ],
      "text/plain": [
       "2*N*(2*N**2*p**2 - 3*N**2*p + N**2 - 6*N*p**2 + 9*N*p - 3*N - 4*p + 2)"
      ]
     },
     "metadata": {},
     "output_type": "display_data"
    },
    {
     "data": {
      "text/latex": [
       "$\\displaystyle 0$"
      ],
      "text/plain": [
       "0"
      ]
     },
     "metadata": {},
     "output_type": "display_data"
    }
   ],
   "source": [
    "m32 = 8*u3-12*u2*N+6*u1*N**2-N**3\n",
    "display(m32.subs({p+q:1,2*p:1}).simplify())\n",
    "display(N**3-3*N**3+2*N**3-3*N**2+9*N**2-6*N**2-4*N+4*N)"
   ]
  },
  {
   "cell_type": "code",
   "execution_count": 38,
   "id": "37f70638",
   "metadata": {},
   "outputs": [
    {
     "data": {
      "text/latex": [
       "$\\displaystyle N \\left(8 N^{3} p^{3} - 16 N^{3} p^{2} + 12 N^{3} p - 3 N^{3} + 56 N^{2} p^{2} - 52 N^{2} p + 12 N^{2} + 88 N p^{3} - 96 N p^{2} + 64 N p - 16 N + 24 p^{2} - 32 p + 8\\right)$"
      ],
      "text/plain": [
       "N*(8*N**3*p**3 - 16*N**3*p**2 + 12*N**3*p - 3*N**3 + 56*N**2*p**2 - 52*N**2*p + 12*N**2 + 88*N*p**3 - 96*N*p**2 + 64*N*p - 16*N + 24*p**2 - 32*p + 8)"
      ]
     },
     "metadata": {},
     "output_type": "display_data"
    },
    {
     "data": {
      "text/latex": [
       "$\\displaystyle 3 N^{2} - 2 N$"
      ],
      "text/plain": [
       "3*N**2 - 2*N"
      ]
     },
     "metadata": {},
     "output_type": "display_data"
    }
   ],
   "source": [
    "m42=16*u4-32*u3*N+24*u2*N**2-8*u1*N**3+N**4\n",
    "display(m42.subs({p+q:1,2*p:1}).simplify())\n",
    "display(N**4-4*N**4+6*N**4-3*N**4+14*N**3-26*N**3+12*N**3+11*N**2-24*N**2+32*N**2-16*N**2+6*N-16*N+8*N)"
   ]
  },
  {
   "cell_type": "markdown",
   "id": "a8bfaa55",
   "metadata": {},
   "source": [
    "# Exercise 1.15"
   ]
  },
  {
   "cell_type": "code",
   "execution_count": 4,
   "id": "5314422b",
   "metadata": {},
   "outputs": [],
   "source": [
    "# Para calculo da integral quadratica gaussiana\n",
    "def gaussxw(N):\n",
    "    # Aproximação inicial dos polinomios de legendre\n",
    "    a = np.linspace(3,4*N-1,N)/(4*N+2)\n",
    "    x = np.cos(np.pi*a+1/(8*N*N*np.tan(a)))\n",
    "\n",
    "    #Usando método de Newton achamos precisão\n",
    "    epsilon = 1e-15\n",
    "    delta = 1.0\n",
    "    while delta>epsilon:\n",
    "        p0 = np.ones(N,float)\n",
    "        p1 = np.copy(x)\n",
    "        for k in range(1,N):\n",
    "            p0,p1 = p1,((2*k+1)*x*p1-k*p0)/(k+1)\n",
    "        dp = (N+1)*(p0-x*p1)/(1-x*x)\n",
    "        dx = p1/dp\n",
    "        x -= dx\n",
    "        delta = max(abs(dx))\n",
    "\n",
    "    # Calculando pesos\n",
    "    w = 2*(N+1)*(N+1)/(N*N*(1-x*x)*dp*dp)\n",
    "\n",
    "    return x,w\n",
    "\n",
    "def gaussxwab(N,a,b):\n",
    "    x,w = gaussxw(N)\n",
    "    return 0.5*(b-a)*x+0.5*(b+a),0.5*(b-a)*w"
   ]
  },
  {
   "cell_type": "markdown",
   "id": "04f16a8d",
   "metadata": {},
   "source": [
    "Nesse exercícios temos que a probabilidae de ao tentar ligar ter linha disponível imediatamente é\n",
    "\\begin{equation}\n",
    "    W(m) = \\int_0^M \\frac{1}{\\sqrt{2\\pi}\\sigma}e^{\\frac{-(m-\\mu)^2}{2\\sigma^2}}dm,\n",
    "\\end{equation}\n",
    "Se quero saber para qual valor de M essa integral sera pelo menos 1-X, posso fazer o código abaixo"
   ]
  },
  {
   "cell_type": "code",
   "execution_count": 23,
   "id": "44ce0134",
   "metadata": {},
   "outputs": [
    {
     "name": "stdout",
     "output_type": "stream",
     "text": [
      "P(69) = 0.661\n",
      "P(70) = 0.7053\n",
      "P(71) = 0.7468\n",
      "P(72) = 0.7849\n",
      "P(73) = 0.8195\n",
      "P(74) = 0.8504\n",
      "P(75) = 0.8775\n",
      "P(76) = 0.901\n",
      "P(77) = 0.921\n",
      "P(78) = 0.9378\n",
      "P(79) = 0.9516\n",
      "P(80) = 0.9629\n",
      "P(81) = 0.9719\n",
      "P(82) = 0.9791\n",
      "P(83) = 0.9846\n",
      "P(84) = 0.9888\n",
      "P(85) = 0.992\n",
      "----------------\n",
      "IDEAL\n",
      "P(85) = 0.992\n"
     ]
    },
    {
     "data": {
      "image/png": "[encoded data removed]",
      "text/plain": [
       "<Figure size 432x288 with 1 Axes>"
      ]
     },
     "metadata": {
      "needs_background": "light"
     },
     "output_type": "display_data"
    }
   ],
   "source": [
    "u = 2000/30\n",
    "sig = np.sqrt(2000/30*29/30)\n",
    "X=1/100\n",
    "\n",
    "def f1(z):\n",
    "    return (1/(np.sqrt(2*np.pi)*sig)) *(np.exp(-(z-u)**2/(2*sig**2)))\n",
    "\n",
    "W=[]\n",
    "a=0\n",
    "i=60\n",
    "for b in range(70,180,1):\n",
    "    xp,wp=gaussxwab(i,a,b)\n",
    "    s=0\n",
    "    for k in range(i):\n",
    "        s+=wp[k]*f1(xp[k])\n",
    "    W.append(s)\n",
    "    print(f'P({b-1}) = {round(s,4)}')\n",
    "    if s>=1-X:\n",
    "        print('----------------')\n",
    "        print('IDEAL')\n",
    "        print(f'P({b-1}) = {round(s,4)}')\n",
    "        break\n",
    "        \n",
    "\n",
    "\n",
    "plt.plot(np.arange(69,b,1),W)\n",
    "\n",
    "plt.xlim(80,85)\n",
    "plt.ylim(0.95,0.999)\n",
    "plt.ylabel('Valor integral')\n",
    "plt.xlabel('M')\n",
    "plt.show()"
   ]
  }
 ],
 "metadata": {
  "kernelspec": {
   "display_name": "Python 3",
   "language": "python",
   "name": "python3"
  },
  "language_info": {
   "codemirror_mode": {
    "name": "ipython",
    "version": 3
   },
   "file_extension": ".py",
   "mimetype": "text/x-python",
   "name": "python",
   "nbconvert_exporter": "python",
   "pygments_lexer": "ipython3",
   "version": "3.8.8"
  }
 },
 "nbformat": 4,
 "nbformat_minor": 5
}
